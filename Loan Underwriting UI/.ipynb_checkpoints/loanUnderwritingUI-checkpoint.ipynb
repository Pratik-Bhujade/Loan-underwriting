{
 "cells": [
  {
   "cell_type": "code",
   "execution_count": null,
   "metadata": {},
   "outputs": [
    {
     "name": "stdout",
     "output_type": "stream",
     "text": [
      " * Serving Flask app \"__main__\" (lazy loading)\n",
      " * Environment: production\n",
      "   WARNING: This is a development server. Do not use it in a production deployment.\n",
      "   Use a production WSGI server instead.\n",
      " * Debug mode: off\n"
     ]
    },
    {
     "name": "stderr",
     "output_type": "stream",
     "text": [
      " * Running on http://127.0.0.1:5000/ (Press CTRL+C to quit)\n",
      "127.0.0.1 - - [10/Sep/2020 13:15:34] \"\u001b[37mGET / HTTP/1.1\u001b[0m\" 200 -\n"
     ]
    },
    {
     "name": "stdout",
     "output_type": "stream",
     "text": [
      "application_test.csv\n"
     ]
    },
    {
     "name": "stderr",
     "output_type": "stream",
     "text": [
      "127.0.0.1 - - [10/Sep/2020 13:15:41] \"\u001b[37mPOST /result HTTP/1.1\u001b[0m\" 200 -\n"
     ]
    },
    {
     "name": "stdout",
     "output_type": "stream",
     "text": [
      "Q is [0.9512989311247965, 0.9537820771194412, 0.95560178657441]\n",
      "reward is  10\n",
      "INSIDE\n",
      "INSIDE\n",
      "INSIDE\n",
      "INSIDE\n",
      "INSIDE\n",
      "INSIDE\n",
      "INSIDE\n",
      "INSIDE\n",
      "INSIDE\n",
      "INSIDE\n",
      "INSIDE\n",
      "INSIDE\n",
      "INSIDE\n",
      "INSIDE\n",
      "INSIDE\n",
      "INSIDE\n",
      "INSIDE\n",
      "INSIDE\n",
      "INSIDE\n",
      "INSIDE\n",
      "INSIDE\n",
      "INSIDE\n",
      "INSIDE\n",
      "INSIDE\n",
      "INSIDE\n",
      "INSIDE\n",
      "INSIDE\n"
     ]
    },
    {
     "name": "stderr",
     "output_type": "stream",
     "text": [
      "127.0.0.1 - - [10/Sep/2020 13:23:16] \"\u001b[37mGET / HTTP/1.1\u001b[0m\" 200 -\n",
      "127.0.0.1 - - [10/Sep/2020 13:23:16] \"\u001b[33mGET /favicon.ico HTTP/1.1\u001b[0m\" 404 -\n"
     ]
    },
    {
     "name": "stdout",
     "output_type": "stream",
     "text": [
      "application_test.csv\n"
     ]
    },
    {
     "name": "stderr",
     "output_type": "stream",
     "text": [
      "127.0.0.1 - - [10/Sep/2020 13:23:22] \"\u001b[37mPOST /result HTTP/1.1\u001b[0m\" 200 -\n"
     ]
    },
    {
     "name": "stdout",
     "output_type": "stream",
     "text": [
      "Q is [0.9498124159411057, 0.9524384517340847, 0.9543696645448143]\n",
      "reward is  10\n",
      "INSIDE\n",
      "INSIDE\n",
      "INSIDE\n",
      "INSIDE\n",
      "INSIDE\n",
      "INSIDE\n",
      "INSIDE\n",
      "INSIDE\n",
      "INSIDE\n",
      "INSIDE\n",
      "INSIDE\n",
      "INSIDE\n",
      "INSIDE\n",
      "INSIDE\n",
      "INSIDE\n",
      "INSIDE\n",
      "INSIDE\n",
      "INSIDE\n",
      "INSIDE\n",
      "INSIDE\n",
      "INSIDE\n",
      "INSIDE\n",
      "INSIDE\n",
      "INSIDE\n",
      "INSIDE\n",
      "INSIDE\n",
      "INSIDE\n"
     ]
    },
    {
     "name": "stderr",
     "output_type": "stream",
     "text": [
      "127.0.0.1 - - [10/Sep/2020 13:23:22] \"\u001b[33mGET /favicon.ico HTTP/1.1\u001b[0m\" 404 -\n"
     ]
    }
   ],
   "source": [
    "import pandas as pd\n",
    "import numpy as np\n",
    "from sklearn.model_selection import train_test_split\n",
    "from sklearn.tree import DecisionTreeClassifier\n",
    "from sklearn.metrics import accuracy_score, f1_score, precision_score\n",
    "from flask import Flask, render_template, request\n",
    "from matplotlib import pyplot as plt\n",
    "from flask import json\n",
    "app = Flask(__name__, static_url_path='/static')\n",
    "\n",
    "@app.route('/')\n",
    "def upload_file():\n",
    "    return render_template('index.html')\n",
    "\t\n",
    "@app.route('/result', methods = ['GET', 'POST'])\n",
    "def fn():\n",
    "    if request.method == 'POST':\n",
    "        f = request.files['file']\n",
    "        print(f.filename)\n",
    "        # For importing the data into environment\n",
    "        application = pd.read_csv(\"app_train.csv\")\n",
    "        val_data = pd.read_csv(f.filename)\n",
    "\n",
    " # Diving data into feature and target set\n",
    "        X = application.drop(['TARGET'], axis=1)\n",
    "        y = application.TARGET\n",
    "        feature_name = X.columns.tolist()\n",
    "\n",
    "        #Divinding dta into test and train set\n",
    "        X_train,X_test,y_train,y_test = train_test_split(X, y, test_size=0.25, random_state=42)\n",
    "\n",
    "        # ## Deep Q-Learning\n",
    "\n",
    "        # Setting data \n",
    "        num_data = len(X_train)\n",
    "        rf= DecisionTreeClassifier()\n",
    "        rf.fit(X_train,y_train)\n",
    "        #Set Reward\n",
    "        def getReward(accuracy):\n",
    "            if accuracy>=0.90:\n",
    "                return 10\n",
    "            else: \n",
    "                return 0  \n",
    "\n",
    "        #Q Matrix for q-netwrok\n",
    "        Q = np.matrix(np.zeros([1]))\n",
    "\n",
    "        #Training the model with provided dataset\n",
    "        def generateQ(x,y):\n",
    "                reward=0\n",
    "                ypred=rf.predict(x)\n",
    "                acc=accuracy_score(y,ypred)\n",
    "                f1=f1_score(ypred,y)\n",
    "                ps= precision_score(y, ypred, average='weighted')\n",
    "                reward=getReward(acc)+reward\n",
    "                Q=[acc,f1,ps]\n",
    "                return Q,reward,ypred\n",
    "        \n",
    "        # Testing the Deep Q network model\n",
    "        Q,reward,ypred = generateQ(X_test,y_test)\n",
    "        print(\"Q is\",Q)\n",
    "        print(\"reward is \", reward)\n",
    "        # Accuracy of deep Q networking with training data\n",
    "        QAcc = Q[0]\n",
    "        QAcc*100\n",
    "\n",
    " # F1 Score of deep Q networking with training data\n",
    "        Qf1 = Q[1]\n",
    "        Qf1*100\n",
    "\n",
    "        # Precision Score of deep Q networking with training data\n",
    "        QPrec = Q[2]\n",
    "        QPrec*100\n",
    "        \n",
    "        X_val=val_data.drop(['TARGET'], axis=1)\n",
    "        Y_val=val_data['TARGET']\n",
    "        Q,reward,ypred = generateQ(X_val,Y_val)\n",
    "        data1=pd.DataFrame({'Actual value':Y_val, 'Predicted value':ypred})\n",
    "        acc=Q[0]*100\n",
    "        f1=Q[1]*100\n",
    "        prec=Q[2]*100\n",
    "        count_1 = 0\n",
    "        count_0 = 0\n",
    "        for index in data1.index:\n",
    "            if(data1['Actual value'][index] == data1['Predicted value'][index]):\n",
    "                count_1 += 1\n",
    "            else:\n",
    "                count_0 += 1\n",
    "    # return render_template(\"result.html\",result = data1.to_html(header = 'true'), acc=acc,f1=f1,prec=prec, reward=reward)\n",
    "    return render_template(\"result.html\", table=data1.to_html(header='true'), result = json.dumps([count_0,count_1]), acc=acc,f1=f1,prec=prec, reward=reward)\n",
    "\n",
    "if __name__ == '__main__':\n",
    "    app.run()"
   ]
  },
  {
   "cell_type": "code",
   "execution_count": null,
   "metadata": {},
   "outputs": [],
   "source": []
  }
 ],
 "metadata": {
  "kernelspec": {
   "display_name": "Python 3",
   "language": "python",
   "name": "python3"
  },
  "language_info": {
   "codemirror_mode": {
    "name": "ipython",
    "version": 3
   },
   "file_extension": ".py",
   "mimetype": "text/x-python",
   "name": "python",
   "nbconvert_exporter": "python",
   "pygments_lexer": "ipython3",
   "version": "3.8.3"
  }
 },
 "nbformat": 4,
 "nbformat_minor": 4
}
